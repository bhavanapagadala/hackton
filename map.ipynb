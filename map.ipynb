{
  "nbformat": 4,
  "nbformat_minor": 0,
  "metadata": {
    "colab": {
      "provenance": [],
      "authorship_tag": "ABX9TyPXNcq3IdnXY3qfQTlDvwZa",
      "include_colab_link": true
    },
    "kernelspec": {
      "name": "python3",
      "display_name": "Python 3"
    },
    "language_info": {
      "name": "python"
    }
  },
  "cells": [
    {
      "cell_type": "markdown",
      "metadata": {
        "id": "view-in-github",
        "colab_type": "text"
      },
      "source": [
        "<a href=\"https://colab.research.google.com/github/bhavanapagadala/hackton/blob/main/map.ipynb\" target=\"_parent\"><img src=\"https://colab.research.google.com/assets/colab-badge.svg\" alt=\"Open In Colab\"/></a>"
      ]
    },
    {
      "cell_type": "code",
      "execution_count": null,
      "metadata": {
        "id": "N--TJNCzQZci"
      },
      "outputs": [],
      "source": [
        "!pip install folium geopy\n",
        "\n",
        "import folium\n",
        "from folium.plugins import Search\n",
        "from IPython.display import display\n",
        "from geopy.geocoders import Nominatim\n",
        "\n",
        "# Sample disaster + safe zone data\n",
        "disaster_data = [\n",
        "    {\"city\": \"Delhi\", \"lat\": 28.6139, \"lon\": 77.2090, \"severity\": \"High\", \"safe_zone\": \"Indira Stadium\", \"safe_lat\": 28.6330, \"safe_lon\": 77.2185},\n",
        "    {\"city\": \"Mumbai\", \"lat\": 19.0760, \"lon\": 72.8777, \"severity\": \"Critical\", \"safe_zone\": \"Wankhede Grounds\", \"safe_lat\": 19.0000, \"safe_lon\": 72.8200},\n",
        "    {\"city\": \"Chennai\", \"lat\": 13.0827, \"lon\": 80.2707, \"severity\": \"Moderate\", \"safe_zone\": \"Marina Shelter\", \"safe_lat\": 13.0400, \"safe_lon\": 80.2800},\n",
        "    {\"city\": \"Kolkata\", \"lat\": 22.5726, \"lon\": 88.3639, \"severity\": \"Severe\", \"safe_zone\": \"Netaji Stadium\", \"safe_lat\": 22.5600, \"safe_lon\": 88.3700},\n",
        "    {\"city\": \"Coimbatore\", \"lat\": 11.0168, \"lon\": 76.9558, \"severity\": \"Moderate\", \"safe_zone\": \"PSG Auditorium\", \"safe_lat\": 11.018, \"safe_lon\": 76.9600},\n",
        "    {\"city\": \"Kottur\", \"lat\": 10.9331, \"lon\": 76.9565, \"severity\": \"Severe\", \"safe_zone\": \"Kottur School Ground\", \"safe_lat\": 10.936, \"safe_lon\": 76.9588}\n",
        "]\n",
        "\n",
        "severity_colors = {\n",
        "    \"Critical\": \"darkred\",\n",
        "    \"Severe\": \"orange\",\n",
        "    \"High\": \"red\",\n",
        "    \"Moderate\": \"blue\",\n",
        "    \"Low\": \"green\"\n",
        "}\n",
        "\n",
        "# Initialize map\n",
        "disaster_map = folium.Map(location=[22.5, 78.5], zoom_start=5)\n",
        "\n",
        "# Group for searchable disaster markers\n",
        "feature_group = folium.FeatureGroup(name=\"Disasters\")\n",
        "disaster_map.add_child(feature_group)\n",
        "\n",
        "# Add disaster markers, safe zones, and routes\n",
        "for entry in disaster_data:\n",
        "    color = severity_colors.get(entry[\"severity\"], \"gray\")\n",
        "\n",
        "    folium.Marker(\n",
        "        location=[entry[\"lat\"], entry[\"lon\"]],\n",
        "        tooltip=entry[\"city\"],\n",
        "        popup=folium.Popup(f\"\"\"\n",
        "            <b>City:</b> {entry['city']}<br>\n",
        "            <b>Severity:</b> <span style='color:{color}'>{entry['severity']}</span><br>\n",
        "            <b>Safe Zone:</b> {entry['safe_zone']}\n",
        "        \"\"\", max_width=250),\n",
        "        icon=folium.Icon(color=color)\n",
        "    ).add_to(feature_group)\n",
        "\n",
        "    folium.Marker(\n",
        "        location=[entry[\"safe_lat\"], entry[\"safe_lon\"]],\n",
        "        tooltip=f\"✅ {entry['safe_zone']}\",\n",
        "        popup=f\"Safe Zone for {entry['city']}\",\n",
        "        icon=folium.Icon(color=\"green\", icon=\"ok-sign\")\n",
        "    ).add_to(disaster_map)\n",
        "\n",
        "    folium.PolyLine(\n",
        "        locations=[[entry[\"lat\"], entry[\"lon\"]], [entry[\"safe_lat\"], entry[\"safe_lon\"]]],\n",
        "        color=\"blue\", weight=2, tooltip=\"Evacuation Route\"\n",
        "    ).add_to(disaster_map)\n",
        "\n",
        "# Add search functionality for disaster markers only\n",
        "search = Search(\n",
        "    layer=feature_group,\n",
        "    search_label=\"tooltip\",\n",
        "    placeholder=\"Search disaster location...\",\n",
        "    collapsed=False\n",
        ")\n",
        "disaster_map.add_child(search)\n",
        "\n",
        "# Layer toggle\n",
        "folium.LayerControl().add_to(disaster_map)\n",
        "\n",
        "# Display in Colab\n",
        "display(disaster_map)"
      ]
    }
  ]
}